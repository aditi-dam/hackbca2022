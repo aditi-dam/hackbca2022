{
  "cells": [
    {
      "cell_type": "markdown",
      "metadata": {
        "id": "view-in-github",
        "colab_type": "text"
      },
      "source": [
        "<a href=\"https://colab.research.google.com/github/aditi-dam/hackbca2022/blob/master/Hack_BCA_2022.ipynb\" target=\"_parent\"><img src=\"https://colab.research.google.com/assets/colab-badge.svg\" alt=\"Open In Colab\"/></a>"
      ]
    },
    {
      "cell_type": "markdown",
      "metadata": {
        "id": "RvJQe9vdg2UN"
      },
      "source": [
        "# Imports"
      ]
    },
    {
      "cell_type": "code",
      "execution_count": null,
      "metadata": {
        "id": "zx_jnXMKId7S"
      },
      "outputs": [],
      "source": [
        "import numpy as np\n",
        "import pandas as pd\n",
        "\n",
        "import tensorflow as tf\n",
        "import tensorflow_hub as hub\n",
        "import tensorflow_datasets as tfds\n",
        "\n",
        "import matplotlib.pyplot as plt"
      ]
    },
    {
      "cell_type": "code",
      "execution_count": null,
      "metadata": {
        "id": "cmjfpBUvk3ZI"
      },
      "outputs": [],
      "source": [
        "d = {'INTJ':'You are thoughtful, rational, quick-witted and independent. However, sometimes you are known to be overly critical, and have a combative side to yourself.', 'INTP':'You are unique, creative, inventive and imaginative. However, sometimes you are known to be a bit insensitive and impatient with others.', 'ENTJ':'You are determined, charismatic, confident and authoritative. However, sometimes you are known to  be intolerant of other people\\'s weaknesses, and slightly arrogant.', 'ENTP':'You are audacious, bold, playful and rebellious. However, sometimes you can find it difficult to focus, and dislike talking about practical matters.', 'INFJ':'You are creative, insightful, passionate and have strong morals. However, sometimes you are a bit of a perfectionist, and find it reluctant to open up to other people.','INFP':'You are empathetic, generous, creative and passionate. However, sometimes your goals are a bit unrealistic and you tend to lack focus sometimes.', 'ENFJ':'You are passionate, reliable, charismatic and very receptive. However, sometimes you can be overly empathetic and condescending toward other people.', 'ENFP' : 'You are enthusiastic, festive, good-natured and excellent at communicating. However, you sometimes focus on being a people pleaser and disorganized.', 'ISTJ': 'You are very responsible, strong-willed, calm and enforce order. However, you are known to be stubborn and are somewhat judgemental sometimes', 'ISFJ': 'You are reliable, observant, enthusiastic and supportive. However, you are known to be overly humble and tend to take things personally', 'ESTJ' : 'You are dedicated, strong-willed, loyal and reliable. However, you find it difficult to relax, or share what you\\'re feeling with other people.', 'ESFJ': 'You are very loyal, sensitive to other people\\'s feelings, and have strong practical skills. However, you are sometimes worried about your social status and tend to be vulnerable to criticism.', 'ISTP': 'You are spotaneous, rational, optimistic and know how to prioritize things. However, you are known to be stubborn and get bored very easily.',  'ISFP' : 'You are charming, imaginative, passionate and sensitive to others. However, you are fiercely independent and get stressed out pretty easily.', 'ESTP': 'You are perceptive, direct, bold and rational. However, you tend to be defiant and may sometimes miss the bigger picture in favor of smaller victories.', 'ESFP' : 'You are observant, practical, have excellent people skills and are fond of showmanship. However, you are very sensitive and sometimes avoid conflict entirely.'}"
      ]
    },
    {
      "cell_type": "code",
      "execution_count": null,
      "metadata": {
        "id": "W7Sa0YMs9yYt"
      },
      "outputs": [],
      "source": [
        "mbti_df = pd.read_csv(\"/content/sample_data/mbti_1.csv\")\n",
        "\n",
        "mind_names = [\"E\" , \"I\"]\n",
        "mind = []  # E or I\n",
        "\n",
        "energy_names = [\"N\",  \"S\"]\n",
        "energy = [] # N or S\n",
        "\n",
        "nature_names = [\"F\", \"T\"]\n",
        "nature = [] # F or T\n",
        "\n",
        "tactics_names = [\"J\", \"P\"]\n",
        "\n",
        "tactics = [] # J OR P\n",
        "\n",
        "for t in mbti_df.type:\n",
        "  mind.append(mind_names.index(t[0]))\n",
        "  energy.append(energy_names.index(t[1]))\n",
        "  nature.append(nature_names.index(t[2]))\n",
        "  tactics.append(tactics_names.index(t[3]))\n",
        "\n",
        "mbti_df['mind'] = mind\n",
        "mbti_df['energy'] = energy\n",
        "mbti_df['nature'] = nature\n",
        "mbti_df['tactics'] = tactics\n",
        "\n"
      ]
    },
    {
      "cell_type": "code",
      "execution_count": null,
      "metadata": {
        "id": "47sKz4p80VM3",
        "colab": {
          "base_uri": "https://localhost:8080/",
          "height": 423
        },
        "outputId": "83493139-588c-46f8-8f24-eb1ee7cc95b5"
      },
      "outputs": [
        {
          "output_type": "execute_result",
          "data": {
            "text/plain": [
              "      type                                              posts  mind  energy  \\\n",
              "0     INFJ  'http://www.youtube.com/watch?v=qsXHcwe3krw|||...     1       0   \n",
              "1     ENTP  'I'm finding the lack of me in these posts ver...     0       0   \n",
              "2     INTP  'Good one  _____   https://www.youtube.com/wat...     1       0   \n",
              "3     INTJ  'Dear INTP,   I enjoyed our conversation the o...     1       0   \n",
              "4     ENTJ  'You're fired.|||That's another silly misconce...     0       0   \n",
              "...    ...                                                ...   ...     ...   \n",
              "8670  ISFP  'https://www.youtube.com/watch?v=t8edHB_h908||...     1       1   \n",
              "8671  ENFP  'So...if this thread already exists someplace ...     0       0   \n",
              "8672  INTP  'So many questions when i do these things.  I ...     1       0   \n",
              "8673  INFP  'I am very conflicted right now when it comes ...     1       0   \n",
              "8674  INFP  'It has been too long since I have been on per...     1       0   \n",
              "\n",
              "      nature  tactics  \n",
              "0          0        0  \n",
              "1          1        1  \n",
              "2          1        1  \n",
              "3          1        0  \n",
              "4          1        0  \n",
              "...      ...      ...  \n",
              "8670       0        1  \n",
              "8671       0        1  \n",
              "8672       1        1  \n",
              "8673       0        1  \n",
              "8674       0        1  \n",
              "\n",
              "[8675 rows x 6 columns]"
            ],
            "text/html": [
              "\n",
              "  <div id=\"df-ef06a0a5-608d-4169-afea-ebd718572c17\">\n",
              "    <div class=\"colab-df-container\">\n",
              "      <div>\n",
              "<style scoped>\n",
              "    .dataframe tbody tr th:only-of-type {\n",
              "        vertical-align: middle;\n",
              "    }\n",
              "\n",
              "    .dataframe tbody tr th {\n",
              "        vertical-align: top;\n",
              "    }\n",
              "\n",
              "    .dataframe thead th {\n",
              "        text-align: right;\n",
              "    }\n",
              "</style>\n",
              "<table border=\"1\" class=\"dataframe\">\n",
              "  <thead>\n",
              "    <tr style=\"text-align: right;\">\n",
              "      <th></th>\n",
              "      <th>type</th>\n",
              "      <th>posts</th>\n",
              "      <th>mind</th>\n",
              "      <th>energy</th>\n",
              "      <th>nature</th>\n",
              "      <th>tactics</th>\n",
              "    </tr>\n",
              "  </thead>\n",
              "  <tbody>\n",
              "    <tr>\n",
              "      <th>0</th>\n",
              "      <td>INFJ</td>\n",
              "      <td>'http://www.youtube.com/watch?v=qsXHcwe3krw|||...</td>\n",
              "      <td>1</td>\n",
              "      <td>0</td>\n",
              "      <td>0</td>\n",
              "      <td>0</td>\n",
              "    </tr>\n",
              "    <tr>\n",
              "      <th>1</th>\n",
              "      <td>ENTP</td>\n",
              "      <td>'I'm finding the lack of me in these posts ver...</td>\n",
              "      <td>0</td>\n",
              "      <td>0</td>\n",
              "      <td>1</td>\n",
              "      <td>1</td>\n",
              "    </tr>\n",
              "    <tr>\n",
              "      <th>2</th>\n",
              "      <td>INTP</td>\n",
              "      <td>'Good one  _____   https://www.youtube.com/wat...</td>\n",
              "      <td>1</td>\n",
              "      <td>0</td>\n",
              "      <td>1</td>\n",
              "      <td>1</td>\n",
              "    </tr>\n",
              "    <tr>\n",
              "      <th>3</th>\n",
              "      <td>INTJ</td>\n",
              "      <td>'Dear INTP,   I enjoyed our conversation the o...</td>\n",
              "      <td>1</td>\n",
              "      <td>0</td>\n",
              "      <td>1</td>\n",
              "      <td>0</td>\n",
              "    </tr>\n",
              "    <tr>\n",
              "      <th>4</th>\n",
              "      <td>ENTJ</td>\n",
              "      <td>'You're fired.|||That's another silly misconce...</td>\n",
              "      <td>0</td>\n",
              "      <td>0</td>\n",
              "      <td>1</td>\n",
              "      <td>0</td>\n",
              "    </tr>\n",
              "    <tr>\n",
              "      <th>...</th>\n",
              "      <td>...</td>\n",
              "      <td>...</td>\n",
              "      <td>...</td>\n",
              "      <td>...</td>\n",
              "      <td>...</td>\n",
              "      <td>...</td>\n",
              "    </tr>\n",
              "    <tr>\n",
              "      <th>8670</th>\n",
              "      <td>ISFP</td>\n",
              "      <td>'https://www.youtube.com/watch?v=t8edHB_h908||...</td>\n",
              "      <td>1</td>\n",
              "      <td>1</td>\n",
              "      <td>0</td>\n",
              "      <td>1</td>\n",
              "    </tr>\n",
              "    <tr>\n",
              "      <th>8671</th>\n",
              "      <td>ENFP</td>\n",
              "      <td>'So...if this thread already exists someplace ...</td>\n",
              "      <td>0</td>\n",
              "      <td>0</td>\n",
              "      <td>0</td>\n",
              "      <td>1</td>\n",
              "    </tr>\n",
              "    <tr>\n",
              "      <th>8672</th>\n",
              "      <td>INTP</td>\n",
              "      <td>'So many questions when i do these things.  I ...</td>\n",
              "      <td>1</td>\n",
              "      <td>0</td>\n",
              "      <td>1</td>\n",
              "      <td>1</td>\n",
              "    </tr>\n",
              "    <tr>\n",
              "      <th>8673</th>\n",
              "      <td>INFP</td>\n",
              "      <td>'I am very conflicted right now when it comes ...</td>\n",
              "      <td>1</td>\n",
              "      <td>0</td>\n",
              "      <td>0</td>\n",
              "      <td>1</td>\n",
              "    </tr>\n",
              "    <tr>\n",
              "      <th>8674</th>\n",
              "      <td>INFP</td>\n",
              "      <td>'It has been too long since I have been on per...</td>\n",
              "      <td>1</td>\n",
              "      <td>0</td>\n",
              "      <td>0</td>\n",
              "      <td>1</td>\n",
              "    </tr>\n",
              "  </tbody>\n",
              "</table>\n",
              "<p>8675 rows × 6 columns</p>\n",
              "</div>\n",
              "      <button class=\"colab-df-convert\" onclick=\"convertToInteractive('df-ef06a0a5-608d-4169-afea-ebd718572c17')\"\n",
              "              title=\"Convert this dataframe to an interactive table.\"\n",
              "              style=\"display:none;\">\n",
              "        \n",
              "  <svg xmlns=\"http://www.w3.org/2000/svg\" height=\"24px\"viewBox=\"0 0 24 24\"\n",
              "       width=\"24px\">\n",
              "    <path d=\"M0 0h24v24H0V0z\" fill=\"none\"/>\n",
              "    <path d=\"M18.56 5.44l.94 2.06.94-2.06 2.06-.94-2.06-.94-.94-2.06-.94 2.06-2.06.94zm-11 1L8.5 8.5l.94-2.06 2.06-.94-2.06-.94L8.5 2.5l-.94 2.06-2.06.94zm10 10l.94 2.06.94-2.06 2.06-.94-2.06-.94-.94-2.06-.94 2.06-2.06.94z\"/><path d=\"M17.41 7.96l-1.37-1.37c-.4-.4-.92-.59-1.43-.59-.52 0-1.04.2-1.43.59L10.3 9.45l-7.72 7.72c-.78.78-.78 2.05 0 2.83L4 21.41c.39.39.9.59 1.41.59.51 0 1.02-.2 1.41-.59l7.78-7.78 2.81-2.81c.8-.78.8-2.07 0-2.86zM5.41 20L4 18.59l7.72-7.72 1.47 1.35L5.41 20z\"/>\n",
              "  </svg>\n",
              "      </button>\n",
              "      \n",
              "  <style>\n",
              "    .colab-df-container {\n",
              "      display:flex;\n",
              "      flex-wrap:wrap;\n",
              "      gap: 12px;\n",
              "    }\n",
              "\n",
              "    .colab-df-convert {\n",
              "      background-color: #E8F0FE;\n",
              "      border: none;\n",
              "      border-radius: 50%;\n",
              "      cursor: pointer;\n",
              "      display: none;\n",
              "      fill: #1967D2;\n",
              "      height: 32px;\n",
              "      padding: 0 0 0 0;\n",
              "      width: 32px;\n",
              "    }\n",
              "\n",
              "    .colab-df-convert:hover {\n",
              "      background-color: #E2EBFA;\n",
              "      box-shadow: 0px 1px 2px rgba(60, 64, 67, 0.3), 0px 1px 3px 1px rgba(60, 64, 67, 0.15);\n",
              "      fill: #174EA6;\n",
              "    }\n",
              "\n",
              "    [theme=dark] .colab-df-convert {\n",
              "      background-color: #3B4455;\n",
              "      fill: #D2E3FC;\n",
              "    }\n",
              "\n",
              "    [theme=dark] .colab-df-convert:hover {\n",
              "      background-color: #434B5C;\n",
              "      box-shadow: 0px 1px 3px 1px rgba(0, 0, 0, 0.15);\n",
              "      filter: drop-shadow(0px 1px 2px rgba(0, 0, 0, 0.3));\n",
              "      fill: #FFFFFF;\n",
              "    }\n",
              "  </style>\n",
              "\n",
              "      <script>\n",
              "        const buttonEl =\n",
              "          document.querySelector('#df-ef06a0a5-608d-4169-afea-ebd718572c17 button.colab-df-convert');\n",
              "        buttonEl.style.display =\n",
              "          google.colab.kernel.accessAllowed ? 'block' : 'none';\n",
              "\n",
              "        async function convertToInteractive(key) {\n",
              "          const element = document.querySelector('#df-ef06a0a5-608d-4169-afea-ebd718572c17');\n",
              "          const dataTable =\n",
              "            await google.colab.kernel.invokeFunction('convertToInteractive',\n",
              "                                                     [key], {});\n",
              "          if (!dataTable) return;\n",
              "\n",
              "          const docLinkHtml = 'Like what you see? Visit the ' +\n",
              "            '<a target=\"_blank\" href=https://colab.research.google.com/notebooks/data_table.ipynb>data table notebook</a>'\n",
              "            + ' to learn more about interactive tables.';\n",
              "          element.innerHTML = '';\n",
              "          dataTable['output_type'] = 'display_data';\n",
              "          await google.colab.output.renderOutput(dataTable, element);\n",
              "          const docLink = document.createElement('div');\n",
              "          docLink.innerHTML = docLinkHtml;\n",
              "          element.appendChild(docLink);\n",
              "        }\n",
              "      </script>\n",
              "    </div>\n",
              "  </div>\n",
              "  "
            ]
          },
          "metadata": {},
          "execution_count": 14
        }
      ],
      "source": [
        "mbti_df"
      ]
    },
    {
      "cell_type": "code",
      "execution_count": null,
      "metadata": {
        "id": "pq_sw_NbDtOS"
      },
      "outputs": [],
      "source": [
        "from sklearn.model_selection import train_test_split\n",
        "\n",
        "label_mind = mbti_df.mind\n",
        "label_energy = mbti_df.energy\n",
        "label_nature = mbti_df.nature\n",
        "label_tactics = mbti_df.tactics\n",
        "feature = mbti_df.posts\n",
        "\n",
        "feature_train, feature_test, labelm_train, labelm_test = train_test_split (feature, label_mind, test_size =.3 , random_state= 42, stratify= label_mind)\n",
        "feature_train, feature_test, labele_train, labele_test = train_test_split (feature, label_energy, test_size =.3 , random_state= 42, stratify= label_energy)\n",
        "feature_train, feature_test, labeln_train, labeln_test = train_test_split (feature, label_nature, test_size =.3 , random_state= 42, stratify= label_nature)\n",
        "feature_train, feature_test, labelt_train, labelt_test = train_test_split (feature, label_tactics, test_size =.3 , random_state= 42, stratify= label_nature)\n"
      ]
    },
    {
      "cell_type": "code",
      "execution_count": null,
      "metadata": {
        "id": "AlaHPkU9NVOr"
      },
      "outputs": [],
      "source": [
        "embedding = \"https://tfhub.dev/google/nnlm-en-dim50/2\"\n",
        "hub_layer = hub.KerasLayer(embedding, input_shape=[], \n",
        "                           dtype=tf.string, trainable=True)\n",
        "\n",
        "def createModel():\n",
        "  model = tf.keras.Sequential()\n",
        "  model.add(hub_layer)\n",
        "  model.add(tf.keras.layers.Dense(16, activation='relu'))\n",
        "  model.add(tf.keras.layers.Dense(1))\n",
        "\n",
        "  model.summary()\n",
        "  model.compile(optimizer='adam',\n",
        "                loss=tf.losses.BinaryCrossentropy(from_logits=True),\n",
        "                metrics=[tf.metrics.BinaryAccuracy(threshold=0.0, name='accuracy')])\n",
        "  return model\n"
      ]
    },
    {
      "cell_type": "code",
      "execution_count": null,
      "metadata": {
        "id": "LGn0t7KKqUN-"
      },
      "outputs": [],
      "source": [
        "def normalize(res, range, minima):\n",
        "  normalized_vals = []\n",
        "  for arr in res:\n",
        "    normalized_vals.append((arr[0] + abs(minima))/range)\n",
        "  return normalized_vals"
      ]
    },
    {
      "cell_type": "code",
      "execution_count": null,
      "metadata": {
        "id": "ii29JY1Qrq9H"
      },
      "outputs": [],
      "source": [
        "feature_val = feature_train[3036:]\n",
        "partial_feature_train = feature_train[:3036]\n"
      ]
    },
    {
      "cell_type": "code",
      "execution_count": null,
      "metadata": {
        "id": "t5tDeE-frTTk"
      },
      "outputs": [],
      "source": [
        "m_val = labelm_train[3036:]\n",
        "partial_m_train = labelm_train[:3036]\n",
        "\n",
        "e_val = labele_train[3036:]\n",
        "partial_e_train = labele_train[:3036]\n",
        "\n",
        "n_val = labeln_train[3036:]\n",
        "partial_n_train = labeln_train[:3036]\n",
        "\n",
        "t_val = labelt_train[3036:]\n",
        "partial_t_train = labelt_train[:3036]"
      ]
    },
    {
      "cell_type": "code",
      "execution_count": null,
      "metadata": {
        "id": "HHRkB8x6xPyD"
      },
      "outputs": [],
      "source": [
        "def float_to_mind(float_results):\n",
        "  res = []\n",
        "  for num in float_results:\n",
        "    if(num < 0.5):\n",
        "      res.append(\"E\")\n",
        "    else:\n",
        "      res.append(\"I\")\n",
        "  return res"
      ]
    },
    {
      "cell_type": "code",
      "execution_count": null,
      "metadata": {
        "id": "Mapbq3as1XIZ"
      },
      "outputs": [],
      "source": [
        "def float_to_energy(float_results):\n",
        "  res = []\n",
        "  for num in float_results:\n",
        "    if(num < 0.5):\n",
        "      res.append(\"N\")\n",
        "    else:\n",
        "      res.append(\"S\")\n",
        "  return res"
      ]
    },
    {
      "cell_type": "code",
      "execution_count": null,
      "metadata": {
        "id": "ze7EOZZk1lix"
      },
      "outputs": [],
      "source": [
        "def float_to_nature(float_results):\n",
        "  res = []\n",
        "  for num in float_results:\n",
        "    if(num < 0.5):\n",
        "      res.append(\"F\")\n",
        "    else:\n",
        "      res.append(\"T\")\n",
        "  return res"
      ]
    },
    {
      "cell_type": "code",
      "execution_count": null,
      "metadata": {
        "id": "UrykAjeZ1sCW"
      },
      "outputs": [],
      "source": [
        "def float_to_tactics(float_results):\n",
        "  res = []\n",
        "  for num in float_results:\n",
        "    if(num < 0.5):\n",
        "      res.append(\"J\")\n",
        "    else:\n",
        "      res.append(\"P\")\n",
        "  return res"
      ]
    },
    {
      "cell_type": "code",
      "execution_count": null,
      "metadata": {
        "id": "zx63A3M4tjbc",
        "colab": {
          "base_uri": "https://localhost:8080/"
        },
        "outputId": "c1379df1-3e46-41ee-d77e-cef3319c363b"
      },
      "outputs": [
        {
          "output_type": "stream",
          "name": "stdout",
          "text": [
            "Model: \"sequential\"\n",
            "_________________________________________________________________\n",
            " Layer (type)                Output Shape              Param #   \n",
            "=================================================================\n",
            " keras_layer (KerasLayer)    (None, 50)                48190600  \n",
            "                                                                 \n",
            " dense (Dense)               (None, 16)                816       \n",
            "                                                                 \n",
            " dense_1 (Dense)             (None, 1)                 17        \n",
            "                                                                 \n",
            "=================================================================\n",
            "Total params: 48,191,433\n",
            "Trainable params: 48,191,433\n",
            "Non-trainable params: 0\n",
            "_________________________________________________________________\n"
          ]
        }
      ],
      "source": [
        "mind = createModel()\n",
        "history = mind.fit(partial_feature_train,\n",
        "                    partial_m_train,\n",
        "                    epochs=40,\n",
        "                    batch_size=512,\n",
        "                    validation_data=(feature_val, m_val),\n",
        "                    verbose=0)\n",
        "\n",
        "# tfjs.converters.save_keras_model(mind, \"mind\")"
      ]
    },
    {
      "cell_type": "code",
      "execution_count": null,
      "metadata": {
        "id": "rA25mrMM238N",
        "colab": {
          "base_uri": "https://localhost:8080/"
        },
        "outputId": "a280dc2b-4527-45e6-b890-4e17650c9f62"
      },
      "outputs": [
        {
          "output_type": "stream",
          "name": "stdout",
          "text": [
            "Model: \"sequential_1\"\n",
            "_________________________________________________________________\n",
            " Layer (type)                Output Shape              Param #   \n",
            "=================================================================\n",
            " keras_layer (KerasLayer)    (None, 50)                48190600  \n",
            "                                                                 \n",
            " dense_2 (Dense)             (None, 16)                816       \n",
            "                                                                 \n",
            " dense_3 (Dense)             (None, 1)                 17        \n",
            "                                                                 \n",
            "=================================================================\n",
            "Total params: 48,191,433\n",
            "Trainable params: 48,191,433\n",
            "Non-trainable params: 0\n",
            "_________________________________________________________________\n"
          ]
        }
      ],
      "source": [
        "energy = createModel()\n",
        "history = energy.fit(partial_feature_train,\n",
        "                    partial_e_train,\n",
        "                    epochs=40,\n",
        "                    batch_size=512,\n",
        "                    validation_data=(feature_val, e_val),\n",
        "                    verbose=0)\n",
        "# tfjs.converters.save_keras_model(energy, \"energy\")"
      ]
    },
    {
      "cell_type": "code",
      "execution_count": null,
      "metadata": {
        "id": "pG1tvfr53Gcc",
        "colab": {
          "base_uri": "https://localhost:8080/"
        },
        "outputId": "ff02b3e1-f5e8-45f6-e4a5-3aad00247867"
      },
      "outputs": [
        {
          "output_type": "stream",
          "name": "stdout",
          "text": [
            "Model: \"sequential_2\"\n",
            "_________________________________________________________________\n",
            " Layer (type)                Output Shape              Param #   \n",
            "=================================================================\n",
            " keras_layer (KerasLayer)    (None, 50)                48190600  \n",
            "                                                                 \n",
            " dense_4 (Dense)             (None, 16)                816       \n",
            "                                                                 \n",
            " dense_5 (Dense)             (None, 1)                 17        \n",
            "                                                                 \n",
            "=================================================================\n",
            "Total params: 48,191,433\n",
            "Trainable params: 48,191,433\n",
            "Non-trainable params: 0\n",
            "_________________________________________________________________\n"
          ]
        }
      ],
      "source": [
        "nature = createModel()\n",
        "history = nature.fit(partial_feature_train,\n",
        "                    partial_n_train,\n",
        "                    epochs=40,\n",
        "                    batch_size=512,\n",
        "                    validation_data=(feature_val, n_val),\n",
        "                    verbose=0)\n",
        "# tfjs.converters.save_keras_model(model, \"nature\")"
      ]
    },
    {
      "cell_type": "code",
      "execution_count": null,
      "metadata": {
        "id": "ojRqKVIW3iOH",
        "colab": {
          "base_uri": "https://localhost:8080/"
        },
        "outputId": "66c852bb-da0f-4b7a-daa3-c1ecb40e5468"
      },
      "outputs": [
        {
          "output_type": "stream",
          "name": "stdout",
          "text": [
            "Model: \"sequential_3\"\n",
            "_________________________________________________________________\n",
            " Layer (type)                Output Shape              Param #   \n",
            "=================================================================\n",
            " keras_layer (KerasLayer)    (None, 50)                48190600  \n",
            "                                                                 \n",
            " dense_6 (Dense)             (None, 16)                816       \n",
            "                                                                 \n",
            " dense_7 (Dense)             (None, 1)                 17        \n",
            "                                                                 \n",
            "=================================================================\n",
            "Total params: 48,191,433\n",
            "Trainable params: 48,191,433\n",
            "Non-trainable params: 0\n",
            "_________________________________________________________________\n"
          ]
        }
      ],
      "source": [
        "tactics = createModel()\n",
        "history = tactics.fit(partial_feature_train,\n",
        "                    partial_t_train,\n",
        "                    epochs=40,\n",
        "                    batch_size=512,\n",
        "                    validation_data=(feature_val, t_val),\n",
        "                    verbose=0)\n",
        "#tfjs.converters.save_keras_model(model, \"tactics\")"
      ]
    },
    {
      "cell_type": "code",
      "execution_count": null,
      "metadata": {
        "id": "b3NUaz_YrISG"
      },
      "outputs": [],
      "source": [
        "# Mind\n",
        "res1 = mind.predict(feature_train)\n",
        "m_minima = float((min(res1))[0])\n",
        "m_maxima = float((max(res1))[0])\n",
        "m_range = m_maxima-m_minima\n",
        "\n",
        "# Energy\n",
        "res1 = energy.predict(feature_train)\n",
        "e_minima = float((min(res1))[0])\n",
        "e_maxima = float((max(res1))[0])\n",
        "e_range = e_maxima-e_minima\n",
        "\n",
        "# Nature\n",
        "res1 = nature.predict(feature_train)\n",
        "n_minima = float((min(res1))[0])\n",
        "n_maxima = float((max(res1))[0])\n",
        "n_range = n_maxima-n_minima\n",
        "\n",
        "# Tactics\n",
        "res1 = tactics.predict(feature_train)\n",
        "t_minima = float((min(res1))[0])\n",
        "t_maxima = float((max(res1))[0])\n",
        "t_range = t_maxima-t_minima"
      ]
    },
    {
      "cell_type": "markdown",
      "metadata": {
        "id": "0T7lr4tVgh5b"
      },
      "source": [
        "# Predicting with the model"
      ]
    },
    {
      "cell_type": "code",
      "execution_count": null,
      "metadata": {
        "id": "K2WlBxxqw8W5"
      },
      "outputs": [],
      "source": [
        "def predict(input_string):\n",
        "  input_arr = []\n",
        "  input_arr.append(input_string)\n",
        "\n",
        "  # Mind\n",
        "  results = mind.predict(input_arr)\n",
        "  mind_res = (float_to_mind(normalize(results, m_range, m_minima)))[0]\n",
        "\n",
        "  # Energy\n",
        "  results = energy.predict(input_arr)\n",
        "  energy_res = (float_to_energy(normalize(results, e_range, e_minima)))[0]\n",
        "  \n",
        "  # Nature\n",
        "  results = nature.predict(input_arr)\n",
        "  nature_res = (float_to_nature(normalize(results, n_range, n_minima)))[0]\n",
        "\n",
        "  # Tactics\n",
        "  results = tactics.predict(input_arr)\n",
        "  tactics_res = (float_to_tactics(normalize(results, t_range, t_minima)))[0]\n",
        "\n",
        "  return mind_res + energy_res + nature_res + tactics_res"
      ]
    },
    {
      "cell_type": "code",
      "execution_count": null,
      "metadata": {
        "id": "y4tJDbKU2m5z",
        "colab": {
          "base_uri": "https://localhost:8080/"
        },
        "outputId": "25083ff2-6206-4a0a-ac14-99befba983fc"
      },
      "outputs": [
        {
          "output_type": "stream",
          "name": "stdout",
          "text": [
            "i'm so excited to go outside!\n",
            "ESTJ\n",
            "You are dedicated, strong-willed, loyal and reliable. However, you find it difficult to relax, or share what you're feeling with other people.\n"
          ]
        }
      ],
      "source": [
        "results = predict(input())\n",
        "print(results)\n",
        "print(d[results])"
      ]
    }
  ],
  "metadata": {
    "colab": {
      "collapsed_sections": [],
      "name": "Hack BCA 2022.ipynb",
      "provenance": [],
      "include_colab_link": true
    },
    "kernelspec": {
      "display_name": "Python 3",
      "name": "python3"
    },
    "language_info": {
      "name": "python"
    }
  },
  "nbformat": 4,
  "nbformat_minor": 0
}