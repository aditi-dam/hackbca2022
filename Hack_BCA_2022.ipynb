{
  "nbformat": 4,
  "nbformat_minor": 0,
  "metadata": {
    "colab": {
      "name": "Hack BCA 2022.ipynb",
      "provenance": [],
      "collapsed_sections": [],
      "include_colab_link": true
    },
    "kernelspec": {
      "name": "python3",
      "display_name": "Python 3"
    },
    "language_info": {
      "name": "python"
    }
  },
  "cells": [
    {
      "cell_type": "markdown",
      "metadata": {
        "id": "view-in-github",
        "colab_type": "text"
      },
      "source": [
        "<a href=\"https://colab.research.google.com/github/aditi-dam/hackbca2022/blob/master/Hack_BCA_2022.ipynb\" target=\"_parent\"><img src=\"https://colab.research.google.com/assets/colab-badge.svg\" alt=\"Open In Colab\"/></a>"
      ]
    },
    {
      "cell_type": "code",
      "source": [
        "import numpy as np\n",
        "\n",
        "import pandas as pd\n",
        "\n",
        "import tensorflow as tf\n",
        "import tensorflow_hub as hub\n",
        "import tensorflow_datasets as tfds\n",
        "\n",
        "import matplotlib.pyplot as plt"
      ],
      "metadata": {
        "id": "zx_jnXMKId7S"
      },
      "execution_count": 85,
      "outputs": []
    },
    {
      "cell_type": "code",
      "execution_count": 86,
      "metadata": {
        "id": "W7Sa0YMs9yYt"
      },
      "outputs": [],
      "source": [
        "mbti_df = pd.read_csv(\"mbti_1.csv\")\n",
        "\n",
        "mind_names = [\"E\" , \"I\"]\n",
        "mind = []  # E or I\n",
        "\n",
        "energy_names = [\"N\",  \"S\"]\n",
        "energy = [] # N or S\n",
        "\n",
        "nature_names = [\"F\", \"T\"]\n",
        "nature = [] # F or T\n",
        "\n",
        "tactics_names = [\"J\", \"P\"]\n",
        "\n",
        "tactics = [] # J OR P\n",
        "\n",
        "for t in mbti_df.type:\n",
        "  mind.append(mind_names.index(t[0]))\n",
        "  energy.append(energy_names.index(t[1]))\n",
        "  nature.append(nature_names.index(t[2]))\n",
        "  tactics.append(tactics_names.index(t[3]))\n",
        "\n",
        "mbti_df['mind'] = mind\n",
        "mbti_df['energy'] = energy\n",
        "mbti_df['nature'] = nature\n",
        "mbti_df['tactics'] = tactics\n",
        "\n"
      ]
    },
    {
      "cell_type": "code",
      "source": [
        "from sklearn.model_selection import train_test_split\n",
        "\n",
        "label_mind = mbti_df.mind\n",
        "label_energy = mbti_df.energy\n",
        "label_nature = mbti_df.nature\n",
        "label_tactics = mbti_df.tactics\n",
        "feature = mbti_df.posts\n",
        "\n",
        "feature_train, feature_test, labelm_train, labelm_test = train_test_split (feature, label_mind, test_size =.3 , random_state= 42, stratify= label_mind)\n",
        "feature_train, feature_test, labele_train, labele_test = train_test_split (feature, label_energy, test_size =.3 , random_state= 42, stratify= label_energy)\n",
        "feature_train, feature_test, labeln_train, labeln_test = train_test_split (feature, label_nature, test_size =.3 , random_state= 42, stratify= label_nature)\n",
        "feature_train, feature_test, labelt_train, labelt_test = train_test_split (feature, label_tactics, test_size =.3 , random_state= 42, stratify= label_nature)\n"
      ],
      "metadata": {
        "id": "pq_sw_NbDtOS"
      },
      "execution_count": 87,
      "outputs": []
    },
    {
      "cell_type": "code",
      "source": [
        "embedding = \"https://tfhub.dev/google/nnlm-en-dim50/2\"\n",
        "hub_layer = hub.KerasLayer(embedding, input_shape=[], \n",
        "                           dtype=tf.string, trainable=True)\n",
        "\n",
        "model = tf.keras.Sequential()\n",
        "model.add(hub_layer)\n",
        "model.add(tf.keras.layers.Dense(16, activation='relu'))\n",
        "model.add(tf.keras.layers.Dense(1))\n",
        "\n",
        "model.summary()"
      ],
      "metadata": {
        "colab": {
          "base_uri": "https://localhost:8080/"
        },
        "id": "AlaHPkU9NVOr",
        "outputId": "014701e1-5166-4ba7-f3c5-0eb08835f8c3"
      },
      "execution_count": 88,
      "outputs": [
        {
          "output_type": "stream",
          "name": "stdout",
          "text": [
            "Model: \"sequential_1\"\n",
            "_________________________________________________________________\n",
            " Layer (type)                Output Shape              Param #   \n",
            "=================================================================\n",
            " keras_layer_2 (KerasLayer)  (None, 50)                48190600  \n",
            "                                                                 \n",
            " dense_2 (Dense)             (None, 16)                816       \n",
            "                                                                 \n",
            " dense_3 (Dense)             (None, 1)                 17        \n",
            "                                                                 \n",
            "=================================================================\n",
            "Total params: 48,191,433\n",
            "Trainable params: 48,191,433\n",
            "Non-trainable params: 0\n",
            "_________________________________________________________________\n"
          ]
        }
      ]
    },
    {
      "cell_type": "code",
      "source": [
        "feature_train"
      ],
      "metadata": {
        "colab": {
          "base_uri": "https://localhost:8080/"
        },
        "id": "pSGEiBGTrIgU",
        "outputId": "b53c9a48-a22b-408f-aa01-5ecc942e742a"
      },
      "execution_count": 89,
      "outputs": [
        {
          "output_type": "execute_result",
          "data": {
            "text/plain": [
              "5703    wisdom of the sages gods beyond bible pages sn...\n",
              "7984    'I enjoy RPGs and got so used to being able to...\n",
              "3234    'Personally I'd change that into   Some people...\n",
              "7908    'INFJ male here in love with and mutual attrac...\n",
              "277     'I can't say much really as none of this truly...\n",
              "                              ...                        \n",
              "5178    'Can anyone take a guess at the types of the 3...\n",
              "6449    YES! For some reason my signature isn't workin...\n",
              "4466    'INTJs tend to be much cooler and logical abou...\n",
              "1210    Yeah, it makes sense and that's what u gave be...\n",
              "1293    'I need hugs.   Been in love with an ENFJ for ...\n",
              "Name: posts, Length: 6072, dtype: object"
            ]
          },
          "metadata": {},
          "execution_count": 89
        }
      ]
    },
    {
      "cell_type": "code",
      "source": [
        "model.compile(optimizer='adam',\n",
        "              loss=tf.losses.BinaryCrossentropy(from_logits=True),\n",
        "              metrics=[tf.metrics.BinaryAccuracy(threshold=0.0, name='accuracy')])\n"
      ],
      "metadata": {
        "id": "GOb2yHJCmspS"
      },
      "execution_count": 90,
      "outputs": []
    },
    {
      "cell_type": "code",
      "source": [
        "feature_val = feature_train[3036:]\n",
        "partial_feature_train = feature_train[:3036]\n"
      ],
      "metadata": {
        "id": "ii29JY1Qrq9H"
      },
      "execution_count": 91,
      "outputs": []
    },
    {
      "cell_type": "code",
      "source": [
        "m_val = labelm_train[3036:]\n",
        "partial_m_train = labelm_train[:3036]\n",
        "\n",
        "e_val = labele_train[3036:]\n",
        "partial_e_train = labele_train[:3036]\n",
        "\n",
        "n_val = labeln_train[3036:]\n",
        "partial_n_train = labeln_train[:3036]\n",
        "\n",
        "t_val = labelt_train[3036:]\n",
        "partial_t_train = labelt_train[:3036]"
      ],
      "metadata": {
        "id": "t5tDeE-frTTk"
      },
      "execution_count": 92,
      "outputs": []
    },
    {
      "cell_type": "code",
      "source": [
        "history = model.fit(partial_feature_train,\n",
        "                    partial_m_train,\n",
        "                    epochs=40,\n",
        "                    batch_size=512,\n",
        "                    validation_data=(feature_val, m_val))"
      ],
      "metadata": {
        "id": "K2WlBxxqw8W5",
        "colab": {
          "base_uri": "https://localhost:8080/"
        },
        "outputId": "d7a91cc6-e341-4473-d1a6-20e0dedfe81f"
      },
      "execution_count": 98,
      "outputs": [
        {
          "output_type": "stream",
          "name": "stdout",
          "text": [
            "Epoch 1/40\n",
            "6/6 [==============================] - 5s 881ms/step - loss: 0.4490 - accuracy: 0.7783 - val_loss: 0.5548 - val_accuracy: 0.7648\n",
            "Epoch 2/40\n",
            "6/6 [==============================] - 5s 893ms/step - loss: 0.4395 - accuracy: 0.7787 - val_loss: 0.5551 - val_accuracy: 0.7652\n",
            "Epoch 3/40\n",
            "6/6 [==============================] - 6s 1s/step - loss: 0.4293 - accuracy: 0.7826 - val_loss: 0.5553 - val_accuracy: 0.7652\n",
            "Epoch 4/40\n",
            "6/6 [==============================] - 9s 2s/step - loss: 0.4180 - accuracy: 0.7843 - val_loss: 0.5562 - val_accuracy: 0.7652\n",
            "Epoch 5/40\n",
            "6/6 [==============================] - 7s 1s/step - loss: 0.4068 - accuracy: 0.7892 - val_loss: 0.5566 - val_accuracy: 0.7652\n",
            "Epoch 6/40\n",
            "6/6 [==============================] - 5s 874ms/step - loss: 0.3937 - accuracy: 0.7912 - val_loss: 0.5575 - val_accuracy: 0.7652\n",
            "Epoch 7/40\n",
            "6/6 [==============================] - 5s 874ms/step - loss: 0.3802 - accuracy: 0.7981 - val_loss: 0.5582 - val_accuracy: 0.7652\n",
            "Epoch 8/40\n",
            "6/6 [==============================] - 7s 1s/step - loss: 0.3661 - accuracy: 0.8109 - val_loss: 0.5600 - val_accuracy: 0.7652\n",
            "Epoch 9/40\n",
            "6/6 [==============================] - 5s 868ms/step - loss: 0.3516 - accuracy: 0.8182 - val_loss: 0.5607 - val_accuracy: 0.7638\n",
            "Epoch 10/40\n",
            "6/6 [==============================] - 6s 1s/step - loss: 0.3360 - accuracy: 0.8379 - val_loss: 0.5630 - val_accuracy: 0.7638\n",
            "Epoch 11/40\n",
            "6/6 [==============================] - 5s 863ms/step - loss: 0.3205 - accuracy: 0.8376 - val_loss: 0.5643 - val_accuracy: 0.7632\n",
            "Epoch 12/40\n",
            "6/6 [==============================] - 5s 871ms/step - loss: 0.3043 - accuracy: 0.8926 - val_loss: 0.5663 - val_accuracy: 0.7632\n",
            "Epoch 13/40\n",
            "6/6 [==============================] - 5s 880ms/step - loss: 0.2874 - accuracy: 0.8778 - val_loss: 0.5691 - val_accuracy: 0.7625\n",
            "Epoch 14/40\n",
            "6/6 [==============================] - 5s 880ms/step - loss: 0.2718 - accuracy: 0.9229 - val_loss: 0.5732 - val_accuracy: 0.7622\n",
            "Epoch 15/40\n",
            "6/6 [==============================] - 5s 873ms/step - loss: 0.2556 - accuracy: 0.9071 - val_loss: 0.5727 - val_accuracy: 0.7586\n",
            "Epoch 16/40\n",
            "6/6 [==============================] - 6s 1s/step - loss: 0.2393 - accuracy: 0.9585 - val_loss: 0.5832 - val_accuracy: 0.7615\n",
            "Epoch 17/40\n",
            "6/6 [==============================] - 9s 2s/step - loss: 0.2231 - accuracy: 0.9394 - val_loss: 0.5788 - val_accuracy: 0.7569\n",
            "Epoch 18/40\n",
            "6/6 [==============================] - 6s 1s/step - loss: 0.2065 - accuracy: 0.9694 - val_loss: 0.5890 - val_accuracy: 0.7605\n",
            "Epoch 19/40\n",
            "6/6 [==============================] - 9s 2s/step - loss: 0.1910 - accuracy: 0.9720 - val_loss: 0.5864 - val_accuracy: 0.7533\n",
            "Epoch 20/40\n",
            "6/6 [==============================] - 8s 1s/step - loss: 0.1770 - accuracy: 0.9872 - val_loss: 0.6007 - val_accuracy: 0.7602\n",
            "Epoch 21/40\n",
            "6/6 [==============================] - 7s 1s/step - loss: 0.1649 - accuracy: 0.9802 - val_loss: 0.5935 - val_accuracy: 0.7464\n",
            "Epoch 22/40\n",
            "6/6 [==============================] - 5s 863ms/step - loss: 0.1512 - accuracy: 0.9937 - val_loss: 0.6165 - val_accuracy: 0.7592\n",
            "Epoch 23/40\n",
            "6/6 [==============================] - 5s 881ms/step - loss: 0.1395 - accuracy: 0.9921 - val_loss: 0.6055 - val_accuracy: 0.7484\n",
            "Epoch 24/40\n",
            "6/6 [==============================] - 5s 867ms/step - loss: 0.1279 - accuracy: 0.9960 - val_loss: 0.6274 - val_accuracy: 0.7576\n",
            "Epoch 25/40\n",
            "6/6 [==============================] - 6s 1s/step - loss: 0.1181 - accuracy: 0.9974 - val_loss: 0.6172 - val_accuracy: 0.7477\n",
            "Epoch 26/40\n",
            "6/6 [==============================] - 6s 1s/step - loss: 0.1082 - accuracy: 0.9980 - val_loss: 0.6312 - val_accuracy: 0.7516\n",
            "Epoch 27/40\n",
            "6/6 [==============================] - 6s 1s/step - loss: 0.0996 - accuracy: 0.9993 - val_loss: 0.6367 - val_accuracy: 0.7510\n",
            "Epoch 28/40\n",
            "6/6 [==============================] - 6s 1s/step - loss: 0.0920 - accuracy: 0.9987 - val_loss: 0.6358 - val_accuracy: 0.7460\n",
            "Epoch 29/40\n",
            "6/6 [==============================] - 5s 876ms/step - loss: 0.0851 - accuracy: 0.9997 - val_loss: 0.6587 - val_accuracy: 0.7523\n",
            "Epoch 30/40\n",
            "6/6 [==============================] - 5s 875ms/step - loss: 0.0780 - accuracy: 0.9993 - val_loss: 0.6488 - val_accuracy: 0.7451\n",
            "Epoch 31/40\n",
            "6/6 [==============================] - 5s 884ms/step - loss: 0.0718 - accuracy: 0.9997 - val_loss: 0.6710 - val_accuracy: 0.7520\n",
            "Epoch 32/40\n",
            "6/6 [==============================] - 5s 896ms/step - loss: 0.0665 - accuracy: 0.9997 - val_loss: 0.6615 - val_accuracy: 0.7447\n",
            "Epoch 33/40\n",
            "6/6 [==============================] - 5s 883ms/step - loss: 0.0614 - accuracy: 0.9997 - val_loss: 0.6829 - val_accuracy: 0.7497\n",
            "Epoch 34/40\n",
            "6/6 [==============================] - 5s 869ms/step - loss: 0.0569 - accuracy: 0.9997 - val_loss: 0.6774 - val_accuracy: 0.7460\n",
            "Epoch 35/40\n",
            "6/6 [==============================] - 6s 1s/step - loss: 0.0528 - accuracy: 0.9997 - val_loss: 0.6943 - val_accuracy: 0.7474\n",
            "Epoch 36/40\n",
            "6/6 [==============================] - 5s 889ms/step - loss: 0.0491 - accuracy: 0.9997 - val_loss: 0.6938 - val_accuracy: 0.7470\n",
            "Epoch 37/40\n",
            "6/6 [==============================] - 6s 969ms/step - loss: 0.0459 - accuracy: 0.9997 - val_loss: 0.7042 - val_accuracy: 0.7477\n",
            "Epoch 38/40\n",
            "6/6 [==============================] - 6s 985ms/step - loss: 0.0427 - accuracy: 0.9997 - val_loss: 0.7115 - val_accuracy: 0.7480\n",
            "Epoch 39/40\n",
            "6/6 [==============================] - 10s 2s/step - loss: 0.0399 - accuracy: 1.0000 - val_loss: 0.7128 - val_accuracy: 0.7464\n",
            "Epoch 40/40\n",
            "6/6 [==============================] - 8s 1s/step - loss: 0.0374 - accuracy: 1.0000 - val_loss: 0.7259 - val_accuracy: 0.7480\n"
          ]
        }
      ]
    },
    {
      "cell_type": "code",
      "source": [
        "results = model.evaluate(feature_test, labelm_test)\n",
        "\n",
        "print(results)"
      ],
      "metadata": {
        "colab": {
          "base_uri": "https://localhost:8080/"
        },
        "id": "Q4tqhkfQ5BeF",
        "outputId": "cb3b38bb-acb4-4fc7-97cc-76fa70b4ba1b"
      },
      "execution_count": 99,
      "outputs": [
        {
          "output_type": "stream",
          "name": "stdout",
          "text": [
            "82/82 [==============================] - 8s 99ms/step - loss: 0.7112 - accuracy: 0.7564\n",
            "[0.7111620306968689, 0.7564348578453064]\n"
          ]
        }
      ]
    }
  ]
}